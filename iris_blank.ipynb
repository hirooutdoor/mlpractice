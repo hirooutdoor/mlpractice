{
 "cells": [
  {
   "cell_type": "markdown",
   "metadata": {},
   "source": [
    "# Irisデータの分類"
   ]
  },
  {
   "cell_type": "markdown",
   "metadata": {
    "colab_type": "text",
    "id": "95xZ0PyXuPnT"
   },
   "source": [
    "# 【問題1 データセットを読み込んで、どのような値が入っているか確認】"
   ]
  },
  {
   "cell_type": "code",
   "execution_count": 3,
   "metadata": {
    "colab": {
     "base_uri": "https://localhost:8080/",
     "height": 35
    },
    "colab_type": "code",
    "executionInfo": {
     "elapsed": 589,
     "status": "ok",
     "timestamp": 1541840677581,
     "user": {
      "displayName": "Yasuharu Hirado",
      "photoUrl": "https://lh6.googleusercontent.com/-wJGkTJrYnN0/AAAAAAAAAAI/AAAAAAAAACQ/7Z5o-7qOUj0/s64/photo.jpg",
      "userId": "15347984803100655282"
     },
     "user_tz": -540
    },
    "id": "hycPzWYYuPnZ",
    "outputId": "6482be0d-8a70-485f-8543-17d5a90dd5f5"
   },
   "outputs": [
    {
     "data": {
      "text/plain": [
       "['DESCR',\n",
       " 'data',\n",
       " 'feature_names',\n",
       " 'filename',\n",
       " 'frame',\n",
       " 'target',\n",
       " 'target_names']"
      ]
     },
     "execution_count": 3,
     "metadata": {},
     "output_type": "execute_result"
    }
   ],
   "source": [
    "# データセットの確認\n",
    "from sklearn.datasets import load_iris\n",
    "iris = load_iris() \n",
    "#dirを使って確認。\n",
    "dir(iris)"
   ]
  },
  {
   "cell_type": "markdown",
   "metadata": {
    "colab_type": "text",
    "id": "gMYRib0-uPne"
   },
   "source": [
    "##### データセットには['DESCR', 'data', 'feature_names', 'target', 'target_names']が入っているとわかる"
   ]
  },
  {
   "cell_type": "markdown",
   "metadata": {
    "colab_type": "text",
    "id": "b_W74Gls-s_m"
   },
   "source": [
    "# 【問題2 各値を参照してみる】"
   ]
  },
  {
   "cell_type": "code",
   "execution_count": 4,
   "metadata": {
    "colab": {
     "base_uri": "https://localhost:8080/",
     "height": 1163
    },
    "colab_type": "code",
    "executionInfo": {
     "elapsed": 653,
     "status": "ok",
     "timestamp": 1541840678286,
     "user": {
      "displayName": "Yasuharu Hirado",
      "photoUrl": "https://lh6.googleusercontent.com/-wJGkTJrYnN0/AAAAAAAAAAI/AAAAAAAAACQ/7Z5o-7qOUj0/s64/photo.jpg",
      "userId": "15347984803100655282"
     },
     "user_tz": -540
    },
    "id": "xA9tLVC__BmE",
    "outputId": "804a9e53-0a92-44fd-9a3e-3d2d1e096716"
   },
   "outputs": [
    {
     "name": "stdout",
     "output_type": "stream",
     "text": [
      ".. _iris_dataset:\n",
      "\n",
      "Iris plants dataset\n",
      "--------------------\n",
      "\n",
      "**Data Set Characteristics:**\n",
      "\n",
      "    :Number of Instances: 150 (50 in each of three classes)\n",
      "    :Number of Attributes: 4 numeric, predictive attributes and the class\n",
      "    :Attribute Information:\n",
      "        - sepal length in cm\n",
      "        - sepal width in cm\n",
      "        - petal length in cm\n",
      "        - petal width in cm\n",
      "        - class:\n",
      "                - Iris-Setosa\n",
      "                - Iris-Versicolour\n",
      "                - Iris-Virginica\n",
      "                \n",
      "    :Summary Statistics:\n",
      "\n",
      "    ============== ==== ==== ======= ===== ====================\n",
      "                    Min  Max   Mean    SD   Class Correlation\n",
      "    ============== ==== ==== ======= ===== ====================\n",
      "    sepal length:   4.3  7.9   5.84   0.83    0.7826\n",
      "    sepal width:    2.0  4.4   3.05   0.43   -0.4194\n",
      "    petal length:   1.0  6.9   3.76   1.76    0.9490  (high!)\n",
      "    petal width:    0.1  2.5   1.20   0.76    0.9565  (high!)\n",
      "    ============== ==== ==== ======= ===== ====================\n",
      "\n",
      "    :Missing Attribute Values: None\n",
      "    :Class Distribution: 33.3% for each of 3 classes.\n",
      "    :Creator: R.A. Fisher\n",
      "    :Donor: Michael Marshall (MARSHALL%PLU@io.arc.nasa.gov)\n",
      "    :Date: July, 1988\n",
      "\n",
      "The famous Iris database, first used by Sir R.A. Fisher. The dataset is taken\n",
      "from Fisher's paper. Note that it's the same as in R, but not as in the UCI\n",
      "Machine Learning Repository, which has two wrong data points.\n",
      "\n",
      "This is perhaps the best known database to be found in the\n",
      "pattern recognition literature.  Fisher's paper is a classic in the field and\n",
      "is referenced frequently to this day.  (See Duda & Hart, for example.)  The\n",
      "data set contains 3 classes of 50 instances each, where each class refers to a\n",
      "type of iris plant.  One class is linearly separable from the other 2; the\n",
      "latter are NOT linearly separable from each other.\n",
      "\n",
      ".. topic:: References\n",
      "\n",
      "   - Fisher, R.A. \"The use of multiple measurements in taxonomic problems\"\n",
      "     Annual Eugenics, 7, Part II, 179-188 (1936); also in \"Contributions to\n",
      "     Mathematical Statistics\" (John Wiley, NY, 1950).\n",
      "   - Duda, R.O., & Hart, P.E. (1973) Pattern Classification and Scene Analysis.\n",
      "     (Q327.D83) John Wiley & Sons.  ISBN 0-471-22361-1.  See page 218.\n",
      "   - Dasarathy, B.V. (1980) \"Nosing Around the Neighborhood: A New System\n",
      "     Structure and Classification Rule for Recognition in Partially Exposed\n",
      "     Environments\".  IEEE Transactions on Pattern Analysis and Machine\n",
      "     Intelligence, Vol. PAMI-2, No. 1, 67-71.\n",
      "   - Gates, G.W. (1972) \"The Reduced Nearest Neighbor Rule\".  IEEE Transactions\n",
      "     on Information Theory, May 1972, 431-433.\n",
      "   - See also: 1988 MLC Proceedings, 54-64.  Cheeseman et al\"s AUTOCLASS II\n",
      "     conceptual clustering system finds 3 classes in the data.\n",
      "   - Many, many more ...\n"
     ]
    }
   ],
   "source": [
    "# DESCRの取得\n",
    "print(iris.DESCR)"
   ]
  },
  {
   "cell_type": "markdown",
   "metadata": {
    "colab_type": "text",
    "id": "2aUvFCF4-ud7"
   },
   "source": [
    "↑データセットの解説が入ってる。"
   ]
  },
  {
   "cell_type": "code",
   "execution_count": 7,
   "metadata": {
    "colab": {
     "base_uri": "https://localhost:8080/",
     "height": 2745
    },
    "colab_type": "code",
    "executionInfo": {
     "elapsed": 678,
     "status": "ok",
     "timestamp": 1541840679014,
     "user": {
      "displayName": "Yasuharu Hirado",
      "photoUrl": "https://lh6.googleusercontent.com/-wJGkTJrYnN0/AAAAAAAAAAI/AAAAAAAAACQ/7Z5o-7qOUj0/s64/photo.jpg",
      "userId": "15347984803100655282"
     },
     "user_tz": -540
    },
    "id": "IWxgQT0C_CU-",
    "outputId": "73ead8a4-40bb-4c08-9d93-233dd1740427"
   },
   "outputs": [
    {
     "name": "stdout",
     "output_type": "stream",
     "text": [
      "[5.1 3.5 1.4 0.2]\n"
     ]
    }
   ],
   "source": [
    "# dataの取得\n",
    "print(iris.data[0])"
   ]
  },
  {
   "cell_type": "markdown",
   "metadata": {
    "colab_type": "text",
    "id": "pkLhORs-_DMO"
   },
   "source": [
    "↑謎の4つの数字が大量に出てきた。\n",
    "\n",
    "\n"
   ]
  },
  {
   "cell_type": "code",
   "execution_count": 5,
   "metadata": {
    "colab": {
     "base_uri": "https://localhost:8080/",
     "height": 35
    },
    "colab_type": "code",
    "executionInfo": {
     "elapsed": 645,
     "status": "ok",
     "timestamp": 1541840679706,
     "user": {
      "displayName": "Yasuharu Hirado",
      "photoUrl": "https://lh6.googleusercontent.com/-wJGkTJrYnN0/AAAAAAAAAAI/AAAAAAAAACQ/7Z5o-7qOUj0/s64/photo.jpg",
      "userId": "15347984803100655282"
     },
     "user_tz": -540
    },
    "id": "Ws6BCO5oCrhW",
    "outputId": "6120e705-1b1c-4ebb-bcaa-20acff3b3728"
   },
   "outputs": [
    {
     "data": {
      "text/plain": [
       "(150, 4)"
      ]
     },
     "execution_count": 5,
     "metadata": {},
     "output_type": "execute_result"
    }
   ],
   "source": [
    "iris.data.shape"
   ]
  },
  {
   "cell_type": "markdown",
   "metadata": {
    "colab_type": "text",
    "id": "GWO9G5kxCsHf"
   },
   "source": [
    "↑データの形式を調べると150行4列あるみたい。<br>\n",
    "DESCRの解説をみるかぎり、150個の花のデータを意味していると推察される。"
   ]
  },
  {
   "cell_type": "code",
   "execution_count": 6,
   "metadata": {
    "colab": {
     "base_uri": "https://localhost:8080/",
     "height": 35
    },
    "colab_type": "code",
    "executionInfo": {
     "elapsed": 706,
     "status": "ok",
     "timestamp": 1541840680455,
     "user": {
      "displayName": "Yasuharu Hirado",
      "photoUrl": "https://lh6.googleusercontent.com/-wJGkTJrYnN0/AAAAAAAAAAI/AAAAAAAAACQ/7Z5o-7qOUj0/s64/photo.jpg",
      "userId": "15347984803100655282"
     },
     "user_tz": -540
    },
    "id": "twaUrazYBzVo",
    "outputId": "873f52da-5837-4198-ec56-04761702f704"
   },
   "outputs": [
    {
     "data": {
      "text/plain": [
       "['sepal length (cm)',\n",
       " 'sepal width (cm)',\n",
       " 'petal length (cm)',\n",
       " 'petal width (cm)']"
      ]
     },
     "execution_count": 6,
     "metadata": {},
     "output_type": "execute_result"
    }
   ],
   "source": [
    "# feature_namesの取得\n",
    "iris.feature_names"
   ]
  },
  {
   "cell_type": "markdown",
   "metadata": {
    "colab_type": "text",
    "id": "sp0yxeRUBzqk"
   },
   "source": [
    "iris.dataの中身は、\n",
    "[a, b, c, d]と数字があったときに、<br>\n",
    "a : sepal legnth (花びら縦長) [cm]<br>\n",
    "b : sepal width  (花びら幅長) [cm]<br>\n",
    "c : petal length  (がくへん縦長)<br>\n",
    "d : petal width   (がくへん幅長)<br>\n",
    "を表しているよう。"
   ]
  },
  {
   "cell_type": "code",
   "execution_count": 8,
   "metadata": {
    "colab": {
     "base_uri": "https://localhost:8080/",
     "height": 108
    },
    "colab_type": "code",
    "executionInfo": {
     "elapsed": 692,
     "status": "ok",
     "timestamp": 1541840681195,
     "user": {
      "displayName": "Yasuharu Hirado",
      "photoUrl": "https://lh6.googleusercontent.com/-wJGkTJrYnN0/AAAAAAAAAAI/AAAAAAAAACQ/7Z5o-7qOUj0/s64/photo.jpg",
      "userId": "15347984803100655282"
     },
     "user_tz": -540
    },
    "id": "gkobuHIXBz8V",
    "outputId": "a229acac-04fc-4d30-e3c5-9e3e1b3d5f7e"
   },
   "outputs": [
    {
     "name": "stdout",
     "output_type": "stream",
     "text": [
      "[0 0 0 0 0 0 0 0 0 0 0 0 0 0 0 0 0 0 0 0 0 0 0 0 0 0 0 0 0 0 0 0 0 0 0 0 0\n",
      " 0 0 0 0 0 0 0 0 0 0 0 0 0 1 1 1 1 1 1 1 1 1 1 1 1 1 1 1 1 1 1 1 1 1 1 1 1\n",
      " 1 1 1 1 1 1 1 1 1 1 1 1 1 1 1 1 1 1 1 1 1 1 1 1 1 1 2 2 2 2 2 2 2 2 2 2 2\n",
      " 2 2 2 2 2 2 2 2 2 2 2 2 2 2 2 2 2 2 2 2 2 2 2 2 2 2 2 2 2 2 2 2 2 2 2 2 2\n",
      " 2 2]\n"
     ]
    }
   ],
   "source": [
    "print(iris.target)"
   ]
  },
  {
   "cell_type": "markdown",
   "metadata": {
    "colab_type": "text",
    "id": "0QT0btSAB0Lb"
   },
   "source": [
    "↑0 / 1 / 2 の数字の羅列が出てきた・・・"
   ]
  },
  {
   "cell_type": "code",
   "execution_count": 9,
   "metadata": {
    "colab": {
     "base_uri": "https://localhost:8080/",
     "height": 35
    },
    "colab_type": "code",
    "executionInfo": {
     "elapsed": 836,
     "status": "ok",
     "timestamp": 1541840682076,
     "user": {
      "displayName": "Yasuharu Hirado",
      "photoUrl": "https://lh6.googleusercontent.com/-wJGkTJrYnN0/AAAAAAAAAAI/AAAAAAAAACQ/7Z5o-7qOUj0/s64/photo.jpg",
      "userId": "15347984803100655282"
     },
     "user_tz": -540
    },
    "id": "z3sTZRefB1xl",
    "outputId": "281a21f4-75a7-4f90-c285-a47b24016cb4"
   },
   "outputs": [
    {
     "data": {
      "text/plain": [
       "(150,)"
      ]
     },
     "execution_count": 9,
     "metadata": {},
     "output_type": "execute_result"
    }
   ],
   "source": [
    "iris.target.shape"
   ]
  },
  {
   "cell_type": "markdown",
   "metadata": {
    "colab_type": "text",
    "id": "FrcpuCyWB148"
   },
   "source": [
    "↑データの数はやっぱり150。<br>\n",
    "数字は 0 / 1 / 2 の3種類で、たしか3種類のアヤメのデータを分類する問題だったから、アヤメの種類を表してる？？？"
   ]
  },
  {
   "cell_type": "code",
   "execution_count": 11,
   "metadata": {
    "colab": {
     "base_uri": "https://localhost:8080/",
     "height": 35
    },
    "colab_type": "code",
    "executionInfo": {
     "elapsed": 780,
     "status": "ok",
     "timestamp": 1541840682902,
     "user": {
      "displayName": "Yasuharu Hirado",
      "photoUrl": "https://lh6.googleusercontent.com/-wJGkTJrYnN0/AAAAAAAAAAI/AAAAAAAAACQ/7Z5o-7qOUj0/s64/photo.jpg",
      "userId": "15347984803100655282"
     },
     "user_tz": -540
    },
    "id": "qcuzFTcuD9Ep",
    "outputId": "0658fc4b-d8ec-413f-bc14-5390303938cf"
   },
   "outputs": [
    {
     "data": {
      "text/plain": [
       "array(['setosa', 'versicolor', 'virginica'], dtype='<U10')"
      ]
     },
     "execution_count": 11,
     "metadata": {},
     "output_type": "execute_result"
    }
   ],
   "source": [
    "# target_namesの確認\n",
    "iris.target_names"
   ]
  },
  {
   "cell_type": "markdown",
   "metadata": {
    "colab_type": "text",
    "id": "fiiHtYwJD9OU"
   },
   "source": [
    "↑どうやら iris.targetの数字はそれぞれ<br>\n",
    "0 : setosa (セトサ；ヒオウギアヤメ)<br>\n",
    "1 : versicolor (ヴァーシカラー)<br>\n",
    "2 : virginica (ヴァージニカ)<br>\n",
    "を表しているよう。"
   ]
  },
  {
   "cell_type": "markdown",
   "metadata": {
    "colab_type": "text",
    "id": "GeFjVunRuPnn"
   },
   "source": [
    "# モデル作り"
   ]
  },
  {
   "cell_type": "markdown",
   "metadata": {
    "colab_type": "text",
    "id": "oIf5ndcAuPnn"
   },
   "source": [
    "# 【問題3 まずはトレーニングデータとテストデータに分ける】"
   ]
  },
  {
   "cell_type": "code",
   "execution_count": 12,
   "metadata": {
    "colab": {},
    "colab_type": "code",
    "id": "-cohmD2quPno"
   },
   "outputs": [],
   "source": [
    "from sklearn.model_selection import train_test_split\n",
    "\n",
    "# random_state=1\n",
    "\n",
    "x_train, x_test, y_train, y_test = train_test_split(iris.data, iris.target, test_size = 0.25, random_state = 5)"
   ]
  },
  {
   "cell_type": "markdown",
   "metadata": {
    "colab_type": "text",
    "id": "yFlJZAhvuPnq"
   },
   "source": [
    "# 【問題4 どれくらいに分けられているか確認する】"
   ]
  },
  {
   "cell_type": "code",
   "execution_count": 13,
   "metadata": {
    "colab": {
     "base_uri": "https://localhost:8080/",
     "height": 35
    },
    "colab_type": "code",
    "executionInfo": {
     "elapsed": 654,
     "status": "ok",
     "timestamp": 1541840684389,
     "user": {
      "displayName": "Yasuharu Hirado",
      "photoUrl": "https://lh6.googleusercontent.com/-wJGkTJrYnN0/AAAAAAAAAAI/AAAAAAAAACQ/7Z5o-7qOUj0/s64/photo.jpg",
      "userId": "15347984803100655282"
     },
     "user_tz": -540
    },
    "id": "75odlQTouPnr",
    "outputId": "19e31d9f-b404-4d31-cf70-d3cf1f00e617"
   },
   "outputs": [
    {
     "data": {
      "text/plain": [
       "(112, 4)"
      ]
     },
     "execution_count": 13,
     "metadata": {},
     "output_type": "execute_result"
    }
   ],
   "source": [
    "x_train.shape"
   ]
  },
  {
   "cell_type": "code",
   "execution_count": 14,
   "metadata": {
    "colab": {
     "base_uri": "https://localhost:8080/",
     "height": 35
    },
    "colab_type": "code",
    "executionInfo": {
     "elapsed": 628,
     "status": "ok",
     "timestamp": 1541840685090,
     "user": {
      "displayName": "Yasuharu Hirado",
      "photoUrl": "https://lh6.googleusercontent.com/-wJGkTJrYnN0/AAAAAAAAAAI/AAAAAAAAACQ/7Z5o-7qOUj0/s64/photo.jpg",
      "userId": "15347984803100655282"
     },
     "user_tz": -540
    },
    "id": "a06YxksnuPnv",
    "outputId": "d2550989-fd22-48d9-e1f7-4517f375ecc3"
   },
   "outputs": [
    {
     "data": {
      "text/plain": [
       "(38, 4)"
      ]
     },
     "execution_count": 14,
     "metadata": {},
     "output_type": "execute_result"
    }
   ],
   "source": [
    "x_test.shape"
   ]
  },
  {
   "cell_type": "markdown",
   "metadata": {
    "colab_type": "text",
    "id": "qijPPPHHuPnx"
   },
   "source": [
    "# 【問題5 どれくらいに分けられているか確認する】\n",
    "\n",
    "### 全部で150個あったデータが112個と、38個に分けられていたことがわかる\n",
    "### y_trainとy_testも同様"
   ]
  },
  {
   "cell_type": "code",
   "execution_count": 15,
   "metadata": {
    "colab": {
     "base_uri": "https://localhost:8080/",
     "height": 55
    },
    "colab_type": "code",
    "executionInfo": {
     "elapsed": 580,
     "status": "ok",
     "timestamp": 1541840686660,
     "user": {
      "displayName": "Yasuharu Hirado",
      "photoUrl": "https://lh6.googleusercontent.com/-wJGkTJrYnN0/AAAAAAAAAAI/AAAAAAAAACQ/7Z5o-7qOUj0/s64/photo.jpg",
      "userId": "15347984803100655282"
     },
     "user_tz": -540
    },
    "id": "s8IskBN-uPny",
    "outputId": "d58ef3bc-507b-4e43-a887-e3a55da421d2"
   },
   "outputs": [
    {
     "data": {
      "text/plain": [
       "112"
      ]
     },
     "execution_count": 15,
     "metadata": {},
     "output_type": "execute_result"
    }
   ],
   "source": [
    "len(y_train)"
   ]
  },
  {
   "cell_type": "code",
   "execution_count": 16,
   "metadata": {
    "colab": {
     "base_uri": "https://localhost:8080/",
     "height": 35
    },
    "colab_type": "code",
    "executionInfo": {
     "elapsed": 552,
     "status": "ok",
     "timestamp": 1541840687630,
     "user": {
      "displayName": "Yasuharu Hirado",
      "photoUrl": "https://lh6.googleusercontent.com/-wJGkTJrYnN0/AAAAAAAAAAI/AAAAAAAAACQ/7Z5o-7qOUj0/s64/photo.jpg",
      "userId": "15347984803100655282"
     },
     "user_tz": -540
    },
    "id": "Jd31iV-2uPn3",
    "outputId": "ee6c6d1d-77cf-457f-eee2-66ca5d4709f3"
   },
   "outputs": [
    {
     "data": {
      "text/plain": [
       "38"
      ]
     },
     "execution_count": 16,
     "metadata": {},
     "output_type": "execute_result"
    }
   ],
   "source": [
    "len(y_test)"
   ]
  },
  {
   "cell_type": "code",
   "execution_count": 17,
   "metadata": {
    "colab": {
     "base_uri": "https://localhost:8080/",
     "height": 35
    },
    "colab_type": "code",
    "executionInfo": {
     "elapsed": 544,
     "status": "ok",
     "timestamp": 1541840688624,
     "user": {
      "displayName": "Yasuharu Hirado",
      "photoUrl": "https://lh6.googleusercontent.com/-wJGkTJrYnN0/AAAAAAAAAAI/AAAAAAAAACQ/7Z5o-7qOUj0/s64/photo.jpg",
      "userId": "15347984803100655282"
     },
     "user_tz": -540
    },
    "id": "J8H1xjdpuPn4",
    "outputId": "e100c49c-aaf8-475e-ec54-8d9ecff5ffcd"
   },
   "outputs": [
    {
     "data": {
      "text/plain": [
       "37.5"
      ]
     },
     "execution_count": 17,
     "metadata": {},
     "output_type": "execute_result"
    }
   ],
   "source": [
    "150 * 0.25"
   ]
  },
  {
   "cell_type": "markdown",
   "metadata": {
    "colab_type": "text",
    "id": "0cO81oWJuPn9"
   },
   "source": [
    "# 【問題5 値を確認してみる】 "
   ]
  },
  {
   "cell_type": "code",
   "execution_count": 18,
   "metadata": {
    "colab": {
     "base_uri": "https://localhost:8080/",
     "height": 90
    },
    "colab_type": "code",
    "executionInfo": {
     "elapsed": 569,
     "status": "ok",
     "timestamp": 1541840689649,
     "user": {
      "displayName": "Yasuharu Hirado",
      "photoUrl": "https://lh6.googleusercontent.com/-wJGkTJrYnN0/AAAAAAAAAAI/AAAAAAAAACQ/7Z5o-7qOUj0/s64/photo.jpg",
      "userId": "15347984803100655282"
     },
     "user_tz": -540
    },
    "id": "eUdC3WUhuPoB",
    "outputId": "c45ba37b-160f-4cfe-d644-eece802e84cd"
   },
   "outputs": [
    {
     "name": "stdout",
     "output_type": "stream",
     "text": [
      "[0 2 2 1 0 0 1 2 1 2 2 0 2 0 0 0 0 1 1 1 1 2 1 2 2 1 0 1 0 1 2 1 2 1 2 1 1\n",
      " 1 2 1 0 2 0 0 1 0 0 2 1 0 2 0 2 1 0 0 2 1 1 0 0 2 1 1 0 1 2 1 0 1 2 2 2 2\n",
      " 0 0 1 2 0 1 0 0 2 1 2 0 2 0 2 0 1 0 2 2 0 2 2 2 1 0 1 0 0 1 2 0 2 0 1 2 2\n",
      " 1]\n"
     ]
    }
   ],
   "source": [
    "print(y_train)"
   ]
  },
  {
   "cell_type": "markdown",
   "metadata": {
    "colab_type": "text",
    "id": "I8sP2cqxuPoC"
   },
   "source": [
    "# 【問題6 ロジスティック回帰を用いてモデル作り】 "
   ]
  },
  {
   "cell_type": "code",
   "execution_count": 20,
   "metadata": {
    "scrolled": true
   },
   "outputs": [
    {
     "data": {
      "text/plain": [
       "LogisticRegression()"
      ]
     },
     "execution_count": 20,
     "metadata": {},
     "output_type": "execute_result"
    }
   ],
   "source": [
    "import warnings\n",
    "warnings.filterwarnings(\"ignore\")\n",
    "\n",
    "# ロジスティック回帰の選択\n",
    "from sklearn.linear_model import LogisticRegression\n",
    "# 学習\n",
    "model = LogisticRegression()\n",
    "model.fit(x_train, y_train)"
   ]
  },
  {
   "cell_type": "markdown",
   "metadata": {
    "colab_type": "text",
    "id": "afC7QxP3uPoE"
   },
   "source": [
    "# 【問題7 正解率判定】"
   ]
  },
  {
   "cell_type": "code",
   "execution_count": 21,
   "metadata": {},
   "outputs": [
    {
     "data": {
      "text/plain": [
       "array([1, 2, 2, 0, 2, 1, 0, 2, 0, 1, 1, 2, 2, 2, 0, 0, 2, 2, 0, 0, 1, 2,\n",
       "       0, 1, 1, 2, 1, 1, 1, 2, 0, 1, 1, 0, 1, 0, 0, 2])"
      ]
     },
     "execution_count": 21,
     "metadata": {},
     "output_type": "execute_result"
    }
   ],
   "source": [
    "pred = model.predict(x_test)\n",
    "pred"
   ]
  },
  {
   "cell_type": "code",
   "execution_count": 23,
   "metadata": {},
   "outputs": [
    {
     "data": {
      "text/plain": [
       "array([5.8, 2.7, 3.9, 1.2])"
      ]
     },
     "execution_count": 23,
     "metadata": {},
     "output_type": "execute_result"
    }
   ],
   "source": [
    "x_test[0]"
   ]
  },
  {
   "cell_type": "markdown",
   "metadata": {
    "colab_type": "text",
    "id": "VsYeiaTmuPoI"
   },
   "source": [
    "# y_testとpredict_yの違い"
   ]
  },
  {
   "cell_type": "code",
   "execution_count": 24,
   "metadata": {
    "colab": {
     "base_uri": "https://localhost:8080/",
     "height": 54
    },
    "colab_type": "code",
    "executionInfo": {
     "elapsed": 680,
     "status": "ok",
     "timestamp": 1541840692791,
     "user": {
      "displayName": "Yasuharu Hirado",
      "photoUrl": "https://lh6.googleusercontent.com/-wJGkTJrYnN0/AAAAAAAAAAI/AAAAAAAAACQ/7Z5o-7qOUj0/s64/photo.jpg",
      "userId": "15347984803100655282"
     },
     "user_tz": -540
    },
    "id": "eW3scYCguPoJ",
    "outputId": "0ec5f0bd-60b0-4a4a-be25-bae1caf17eb2"
   },
   "outputs": [
    {
     "data": {
      "text/plain": [
       "array([1, 2, 2, 0, 2, 1, 0, 1, 0, 1, 1, 2, 2, 2, 0, 0, 2, 2, 0, 0, 1, 2,\n",
       "       0, 1, 1, 2, 1, 1, 1, 2, 0, 1, 1, 0, 1, 0, 0, 2])"
      ]
     },
     "execution_count": 24,
     "metadata": {},
     "output_type": "execute_result"
    }
   ],
   "source": [
    "# y_test # 本当の値\n",
    "y_test"
   ]
  },
  {
   "cell_type": "code",
   "execution_count": 25,
   "metadata": {},
   "outputs": [
    {
     "data": {
      "text/plain": [
       "array([1, 2, 2, 0, 2, 1, 0, 2, 0, 1, 1, 2, 2, 2, 0, 0, 2, 2, 0, 0, 1, 2,\n",
       "       0, 1, 1, 2, 1, 1, 1, 2, 0, 1, 1, 0, 1, 0, 0, 2])"
      ]
     },
     "execution_count": 25,
     "metadata": {},
     "output_type": "execute_result"
    }
   ],
   "source": [
    "pred"
   ]
  },
  {
   "cell_type": "markdown",
   "metadata": {
    "colab_type": "text",
    "id": "4R8a3oB0zmEl"
   },
   "source": [
    "### 正解率を見てみましょう"
   ]
  },
  {
   "cell_type": "code",
   "execution_count": 26,
   "metadata": {},
   "outputs": [
    {
     "data": {
      "text/plain": [
       "0.9736842105263158"
      ]
     },
     "execution_count": 26,
     "metadata": {},
     "output_type": "execute_result"
    }
   ],
   "source": [
    "#accuracy_scoreで正解率が見えます\n",
    "from sklearn.metrics import accuracy_score\n",
    "# 第一引数に本当の値、第二引数に予測値を渡す\n",
    "accuracy_score(y_test, pred)"
   ]
  },
  {
   "cell_type": "code",
   "execution_count": null,
   "metadata": {},
   "outputs": [],
   "source": []
  },
  {
   "cell_type": "code",
   "execution_count": 27,
   "metadata": {},
   "outputs": [],
   "source": [
    "from sklearn.metrics import confusion_matrix\n",
    "cm = confusion_matrix(y_test, pred)"
   ]
  },
  {
   "cell_type": "code",
   "execution_count": 28,
   "metadata": {},
   "outputs": [
    {
     "data": {
      "text/plain": [
       "array([[12,  0,  0],\n",
       "       [ 0, 13,  1],\n",
       "       [ 0,  0, 12]])"
      ]
     },
     "execution_count": 28,
     "metadata": {},
     "output_type": "execute_result"
    }
   ],
   "source": [
    "cm"
   ]
  },
  {
   "cell_type": "code",
   "execution_count": 30,
   "metadata": {},
   "outputs": [
    {
     "data": {
      "image/png": "[encoded data removed]",
      "text/plain": [
       "<Figure size 360x360 with 1 Axes>"
      ]
     },
     "metadata": {
      "needs_background": "light"
     },
     "output_type": "display_data"
    }
   ],
   "source": [
    "import matplotlib.pyplot as plt\n",
    "%matplotlib inline\n",
    "\n",
    "fig, ax = plt.subplots(figsize=(5, 5))\n",
    "ax.matshow(cm, cmap=plt.cm.Blues, alpha=0.3)\n",
    "for i in range(cm.shape[0]):\n",
    "    for j in range(cm.shape[1]):\n",
    "        ax.text(x=j, y=i, s=cm[i, j], va='center', ha='center')\n",
    "plt.title('predicted label')\n",
    "plt.ylabel('true label')\n",
    "plt.tight_layout() # ラベルが重ならないように自動調整\n",
    "plt.show()"
   ]
  },
  {
   "cell_type": "code",
   "execution_count": 31,
   "metadata": {},
   "outputs": [
    {
     "name": "stdout",
     "output_type": "stream",
     "text": [
      "cross validation score:\n",
      "[0.96 0.98 0.94]\n"
     ]
    }
   ],
   "source": [
    "from sklearn.model_selection import KFold,StratifiedKFold\n",
    "from sklearn.datasets import load_iris\n",
    "from sklearn.linear_model import LogisticRegression\n",
    "from sklearn.model_selection import cross_val_score\n",
    "\n",
    "iris = load_iris()\n",
    "model = LogisticRegression()\n",
    "#kfold = KFold(n_splits=3)\n",
    "kfold = StratifiedKFold(n_splits=3, shuffle=True, random_state=0)\n",
    "print(\"cross validation score:\\n{}\".format(cross_val_score(model ,iris.data,iris.target,cv=kfold)))"
   ]
  },
  {
   "cell_type": "code",
   "execution_count": null,
   "metadata": {},
   "outputs": [],
   "source": []
  }
 ],
 "metadata": {
  "colab": {
   "collapsed_sections": [],
   "name": "iris.ipynb",
   "provenance": [],
   "version": "0.3.2"
  },
  "kernelspec": {
   "display_name": "Python 3",
   "language": "python",
   "name": "python3"
  },
  "language_info": {
   "codemirror_mode": {
    "name": "ipython",
    "version": 3
   },
   "file_extension": ".py",
   "mimetype": "text/x-python",
   "name": "python",
   "nbconvert_exporter": "python",
   "pygments_lexer": "ipython3",
   "version": "3.8.5"
  }
 },
 "nbformat": 4,
 "nbformat_minor": 2
}
