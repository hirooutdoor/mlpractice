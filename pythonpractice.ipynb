{
 "cells": [
  {
   "cell_type": "code",
   "execution_count": 1,
   "id": "municipal-infrastructure",
   "metadata": {},
   "outputs": [
    {
     "name": "stdout",
     "output_type": "stream",
     "text": [
      "windows8\n",
      "windows10\n",
      "マッチしません\n",
      "マッチしません\n",
      "windowsxp\n"
     ]
    }
   ],
   "source": [
    "import re\n",
    "pc_list = [\"windows8\",\"windows10\",\"mac os\",\"os10\", \"windowsxp\"]\n",
    "for i,a in enumerate(pc_list):\n",
    "    r = re.compile(\"windows[8|10|xp]+\")\n",
    "    m = r.search(pc_list[i])\n",
    "    try:\n",
    "        print(m.group())\n",
    "        f = open(\"select_pc.txt\", \"a\")\n",
    "        f.write(m.group())\n",
    "        f.write(\"\\n\")\n",
    "    except:\n",
    "        print(\"マッチしません\")"
   ]
  },
  {
   "cell_type": "code",
   "execution_count": null,
   "id": "center-literacy",
   "metadata": {},
   "outputs": [],
   "source": []
  },
  {
   "cell_type": "code",
   "execution_count": null,
   "id": "structured-investing",
   "metadata": {},
   "outputs": [],
   "source": []
  }
 ],
 "metadata": {
  "kernelspec": {
   "display_name": "Python 3",
   "language": "python",
   "name": "python3"
  },
  "language_info": {
   "codemirror_mode": {
    "name": "ipython",
    "version": 3
   },
   "file_extension": ".py",
   "mimetype": "text/x-python",
   "name": "python",
   "nbconvert_exporter": "python",
   "pygments_lexer": "ipython3",
   "version": "3.9.1"
  }
 },
 "nbformat": 4,
 "nbformat_minor": 5
}
