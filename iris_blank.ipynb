{
 "cells": [
  {
   "cell_type": "markdown",
   "metadata": {},
   "source": [
    "# Irisデータの分類"
   ]
  },
  {
   "cell_type": "markdown",
   "metadata": {
    "colab_type": "text",
    "id": "95xZ0PyXuPnT"
   },
   "source": [
    "# 【問題1 データセットを読み込んで、どのような値が入っているか確認】"
   ]
  },
  {
   "cell_type": "code",
   "execution_count": 7,
   "metadata": {
    "colab": {
     "base_uri": "https://localhost:8080/",
     "height": 35
    },
    "colab_type": "code",
    "executionInfo": {
     "elapsed": 589,
     "status": "ok",
     "timestamp": 1541840677581,
     "user": {
      "displayName": "Yasuharu Hirado",
      "photoUrl": "https://lh6.googleusercontent.com/-wJGkTJrYnN0/AAAAAAAAAAI/AAAAAAAAACQ/7Z5o-7qOUj0/s64/photo.jpg",
      "userId": "15347984803100655282"
     },
     "user_tz": -540
    },
    "id": "hycPzWYYuPnZ",
    "outputId": "6482be0d-8a70-485f-8543-17d5a90dd5f5"
   },
   "outputs": [
    {
     "name": "stdout",
     "output_type": "stream",
     "text": [
      "['DESCR', 'data', 'feature_names', 'filename', 'target', 'target_names']\n"
     ]
    }
   ],
   "source": [
    "# データセットの確認\n",
    "from sklearn.datasets import load_iris\n",
    "iris = load_iris() \n",
    "#dirを使って確認。"
   ]
  },
  {
   "cell_type": "markdown",
   "metadata": {
    "colab_type": "text",
    "id": "gMYRib0-uPne"
   },
   "source": [
    "##### データセットには['DESCR', 'data', 'feature_names', 'target', 'target_names']が入っているとわかる"
   ]
  },
  {
   "cell_type": "markdown",
   "metadata": {
    "colab_type": "text",
    "id": "b_W74Gls-s_m"
   },
   "source": [
    "# 【問題2 各値を参照してみる】"
   ]
  },
  {
   "cell_type": "code",
   "execution_count": 2,
   "metadata": {
    "colab": {
     "base_uri": "https://localhost:8080/",
     "height": 1163
    },
    "colab_type": "code",
    "executionInfo": {
     "elapsed": 653,
     "status": "ok",
     "timestamp": 1541840678286,
     "user": {
      "displayName": "Yasuharu Hirado",
      "photoUrl": "https://lh6.googleusercontent.com/-wJGkTJrYnN0/AAAAAAAAAAI/AAAAAAAAACQ/7Z5o-7qOUj0/s64/photo.jpg",
      "userId": "15347984803100655282"
     },
     "user_tz": -540
    },
    "id": "xA9tLVC__BmE",
    "outputId": "804a9e53-0a92-44fd-9a3e-3d2d1e096716"
   },
   "outputs": [],
   "source": [
    "# DESCRの取得"
   ]
  },
  {
   "cell_type": "markdown",
   "metadata": {
    "colab_type": "text",
    "id": "2aUvFCF4-ud7"
   },
   "source": [
    "↑データセットの解説が入ってる。"
   ]
  },
  {
   "cell_type": "code",
   "execution_count": 1,
   "metadata": {
    "colab": {
     "base_uri": "https://localhost:8080/",
     "height": 2745
    },
    "colab_type": "code",
    "executionInfo": {
     "elapsed": 678,
     "status": "ok",
     "timestamp": 1541840679014,
     "user": {
      "displayName": "Yasuharu Hirado",
      "photoUrl": "https://lh6.googleusercontent.com/-wJGkTJrYnN0/AAAAAAAAAAI/AAAAAAAAACQ/7Z5o-7qOUj0/s64/photo.jpg",
      "userId": "15347984803100655282"
     },
     "user_tz": -540
    },
    "id": "IWxgQT0C_CU-",
    "outputId": "73ead8a4-40bb-4c08-9d93-233dd1740427"
   },
   "outputs": [],
   "source": [
    "# dataの取得\n"
   ]
  },
  {
   "cell_type": "markdown",
   "metadata": {
    "colab_type": "text",
    "id": "pkLhORs-_DMO"
   },
   "source": [
    "↑謎の4つの数字が大量に出てきた。\n",
    "\n",
    "\n"
   ]
  },
  {
   "cell_type": "code",
   "execution_count": 5,
   "metadata": {
    "colab": {
     "base_uri": "https://localhost:8080/",
     "height": 35
    },
    "colab_type": "code",
    "executionInfo": {
     "elapsed": 645,
     "status": "ok",
     "timestamp": 1541840679706,
     "user": {
      "displayName": "Yasuharu Hirado",
      "photoUrl": "https://lh6.googleusercontent.com/-wJGkTJrYnN0/AAAAAAAAAAI/AAAAAAAAACQ/7Z5o-7qOUj0/s64/photo.jpg",
      "userId": "15347984803100655282"
     },
     "user_tz": -540
    },
    "id": "Ws6BCO5oCrhW",
    "outputId": "6120e705-1b1c-4ebb-bcaa-20acff3b3728"
   },
   "outputs": [],
   "source": [
    "# iris.data.shape"
   ]
  },
  {
   "cell_type": "markdown",
   "metadata": {
    "colab_type": "text",
    "id": "GWO9G5kxCsHf"
   },
   "source": [
    "↑データの形式を調べると150行4列あるみたい。<br>\n",
    "DESCRの解説をみるかぎり、150個の花のデータを意味していると推察される。"
   ]
  },
  {
   "cell_type": "code",
   "execution_count": 4,
   "metadata": {
    "colab": {
     "base_uri": "https://localhost:8080/",
     "height": 35
    },
    "colab_type": "code",
    "executionInfo": {
     "elapsed": 706,
     "status": "ok",
     "timestamp": 1541840680455,
     "user": {
      "displayName": "Yasuharu Hirado",
      "photoUrl": "https://lh6.googleusercontent.com/-wJGkTJrYnN0/AAAAAAAAAAI/AAAAAAAAACQ/7Z5o-7qOUj0/s64/photo.jpg",
      "userId": "15347984803100655282"
     },
     "user_tz": -540
    },
    "id": "twaUrazYBzVo",
    "outputId": "873f52da-5837-4198-ec56-04761702f704"
   },
   "outputs": [],
   "source": [
    "# feature_namesの取得"
   ]
  },
  {
   "cell_type": "markdown",
   "metadata": {
    "colab_type": "text",
    "id": "sp0yxeRUBzqk"
   },
   "source": [
    "iris.dataの中身は、\n",
    "[a, b, c, d]と数字があったときに、<br>\n",
    "a : sepal legnth (花びら縦長) [cm]<br>\n",
    "b : sepal width  (花びら幅長) [cm]<br>\n",
    "c : petal length  (がくへん縦長)<br>\n",
    "d : petal width   (がくへん幅長)<br>\n",
    "を表しているよう。"
   ]
  },
  {
   "cell_type": "code",
   "execution_count": 6,
   "metadata": {
    "colab": {
     "base_uri": "https://localhost:8080/",
     "height": 108
    },
    "colab_type": "code",
    "executionInfo": {
     "elapsed": 692,
     "status": "ok",
     "timestamp": 1541840681195,
     "user": {
      "displayName": "Yasuharu Hirado",
      "photoUrl": "https://lh6.googleusercontent.com/-wJGkTJrYnN0/AAAAAAAAAAI/AAAAAAAAACQ/7Z5o-7qOUj0/s64/photo.jpg",
      "userId": "15347984803100655282"
     },
     "user_tz": -540
    },
    "id": "gkobuHIXBz8V",
    "outputId": "a229acac-04fc-4d30-e3c5-9e3e1b3d5f7e"
   },
   "outputs": [],
   "source": [
    "# print(iris.target)"
   ]
  },
  {
   "cell_type": "markdown",
   "metadata": {
    "colab_type": "text",
    "id": "0QT0btSAB0Lb"
   },
   "source": [
    "↑0 / 1 / 2 の数字の羅列が出てきた・・・"
   ]
  },
  {
   "cell_type": "code",
   "execution_count": 7,
   "metadata": {
    "colab": {
     "base_uri": "https://localhost:8080/",
     "height": 35
    },
    "colab_type": "code",
    "executionInfo": {
     "elapsed": 836,
     "status": "ok",
     "timestamp": 1541840682076,
     "user": {
      "displayName": "Yasuharu Hirado",
      "photoUrl": "https://lh6.googleusercontent.com/-wJGkTJrYnN0/AAAAAAAAAAI/AAAAAAAAACQ/7Z5o-7qOUj0/s64/photo.jpg",
      "userId": "15347984803100655282"
     },
     "user_tz": -540
    },
    "id": "z3sTZRefB1xl",
    "outputId": "281a21f4-75a7-4f90-c285-a47b24016cb4"
   },
   "outputs": [],
   "source": [
    "# iris.target.shape"
   ]
  },
  {
   "cell_type": "markdown",
   "metadata": {
    "colab_type": "text",
    "id": "FrcpuCyWB148"
   },
   "source": [
    "↑データの数はやっぱり150。<br>\n",
    "数字は 0 / 1 / 2 の3種類で、たしか3種類のアヤメのデータを分類する問題だったから、アヤメの種類を表してる？？？"
   ]
  },
  {
   "cell_type": "code",
   "execution_count": 8,
   "metadata": {
    "colab": {
     "base_uri": "https://localhost:8080/",
     "height": 35
    },
    "colab_type": "code",
    "executionInfo": {
     "elapsed": 780,
     "status": "ok",
     "timestamp": 1541840682902,
     "user": {
      "displayName": "Yasuharu Hirado",
      "photoUrl": "https://lh6.googleusercontent.com/-wJGkTJrYnN0/AAAAAAAAAAI/AAAAAAAAACQ/7Z5o-7qOUj0/s64/photo.jpg",
      "userId": "15347984803100655282"
     },
     "user_tz": -540
    },
    "id": "qcuzFTcuD9Ep",
    "outputId": "0658fc4b-d8ec-413f-bc14-5390303938cf"
   },
   "outputs": [],
   "source": [
    "# target_namesの確認"
   ]
  },
  {
   "cell_type": "markdown",
   "metadata": {
    "colab_type": "text",
    "id": "fiiHtYwJD9OU"
   },
   "source": [
    "↑どうやら iris.targetの数字はそれぞれ<br>\n",
    "0 : setosa (セトサ；ヒオウギアヤメ)<br>\n",
    "1 : versicolor (ヴァーシカラー)<br>\n",
    "2 : virginica (ヴァージニカ)<br>\n",
    "を表しているよう。"
   ]
  },
  {
   "cell_type": "markdown",
   "metadata": {
    "colab_type": "text",
    "id": "GeFjVunRuPnn"
   },
   "source": [
    "# モデル作り"
   ]
  },
  {
   "cell_type": "markdown",
   "metadata": {
    "colab_type": "text",
    "id": "oIf5ndcAuPnn"
   },
   "source": [
    "# 【問題3 まずはトレーニングデータとテストデータに分ける】"
   ]
  },
  {
   "cell_type": "code",
   "execution_count": 10,
   "metadata": {
    "colab": {},
    "colab_type": "code",
    "id": "-cohmD2quPno"
   },
   "outputs": [],
   "source": [
    "from sklearn.model_selection import train_test_split\n",
    "\n",
    "# random_state=1"
   ]
  },
  {
   "cell_type": "markdown",
   "metadata": {
    "colab_type": "text",
    "id": "yFlJZAhvuPnq"
   },
   "source": [
    "# 【問題4 どれくらいに分けられているか確認する】"
   ]
  },
  {
   "cell_type": "code",
   "execution_count": 11,
   "metadata": {
    "colab": {
     "base_uri": "https://localhost:8080/",
     "height": 35
    },
    "colab_type": "code",
    "executionInfo": {
     "elapsed": 654,
     "status": "ok",
     "timestamp": 1541840684389,
     "user": {
      "displayName": "Yasuharu Hirado",
      "photoUrl": "https://lh6.googleusercontent.com/-wJGkTJrYnN0/AAAAAAAAAAI/AAAAAAAAACQ/7Z5o-7qOUj0/s64/photo.jpg",
      "userId": "15347984803100655282"
     },
     "user_tz": -540
    },
    "id": "75odlQTouPnr",
    "outputId": "19e31d9f-b404-4d31-cf70-d3cf1f00e617"
   },
   "outputs": [],
   "source": [
    "# x_train.shape"
   ]
  },
  {
   "cell_type": "code",
   "execution_count": 12,
   "metadata": {
    "colab": {
     "base_uri": "https://localhost:8080/",
     "height": 35
    },
    "colab_type": "code",
    "executionInfo": {
     "elapsed": 628,
     "status": "ok",
     "timestamp": 1541840685090,
     "user": {
      "displayName": "Yasuharu Hirado",
      "photoUrl": "https://lh6.googleusercontent.com/-wJGkTJrYnN0/AAAAAAAAAAI/AAAAAAAAACQ/7Z5o-7qOUj0/s64/photo.jpg",
      "userId": "15347984803100655282"
     },
     "user_tz": -540
    },
    "id": "a06YxksnuPnv",
    "outputId": "d2550989-fd22-48d9-e1f7-4517f375ecc3"
   },
   "outputs": [],
   "source": [
    "# x_test.shape"
   ]
  },
  {
   "cell_type": "markdown",
   "metadata": {
    "colab_type": "text",
    "id": "qijPPPHHuPnx"
   },
   "source": [
    "# 【問題5 どれくらいに分けられているか確認する】\n",
    "\n",
    "### 全部で150個あったデータが112個と、38個に分けられていたことがわかる\n",
    "### y_trainとy_testも同様"
   ]
  },
  {
   "cell_type": "code",
   "execution_count": 13,
   "metadata": {
    "colab": {
     "base_uri": "https://localhost:8080/",
     "height": 55
    },
    "colab_type": "code",
    "executionInfo": {
     "elapsed": 580,
     "status": "ok",
     "timestamp": 1541840686660,
     "user": {
      "displayName": "Yasuharu Hirado",
      "photoUrl": "https://lh6.googleusercontent.com/-wJGkTJrYnN0/AAAAAAAAAAI/AAAAAAAAACQ/7Z5o-7qOUj0/s64/photo.jpg",
      "userId": "15347984803100655282"
     },
     "user_tz": -540
    },
    "id": "s8IskBN-uPny",
    "outputId": "d58ef3bc-507b-4e43-a887-e3a55da421d2"
   },
   "outputs": [],
   "source": [
    "# len(y_train)"
   ]
  },
  {
   "cell_type": "code",
   "execution_count": 19,
   "metadata": {
    "colab": {
     "base_uri": "https://localhost:8080/",
     "height": 35
    },
    "colab_type": "code",
    "executionInfo": {
     "elapsed": 552,
     "status": "ok",
     "timestamp": 1541840687630,
     "user": {
      "displayName": "Yasuharu Hirado",
      "photoUrl": "https://lh6.googleusercontent.com/-wJGkTJrYnN0/AAAAAAAAAAI/AAAAAAAAACQ/7Z5o-7qOUj0/s64/photo.jpg",
      "userId": "15347984803100655282"
     },
     "user_tz": -540
    },
    "id": "Jd31iV-2uPn3",
    "outputId": "ee6c6d1d-77cf-457f-eee2-66ca5d4709f3"
   },
   "outputs": [
    {
     "data": {
      "text/plain": [
       "38"
      ]
     },
     "execution_count": 19,
     "metadata": {},
     "output_type": "execute_result"
    }
   ],
   "source": [
    "# len(y_test)"
   ]
  },
  {
   "cell_type": "code",
   "execution_count": 15,
   "metadata": {
    "colab": {
     "base_uri": "https://localhost:8080/",
     "height": 35
    },
    "colab_type": "code",
    "executionInfo": {
     "elapsed": 544,
     "status": "ok",
     "timestamp": 1541840688624,
     "user": {
      "displayName": "Yasuharu Hirado",
      "photoUrl": "https://lh6.googleusercontent.com/-wJGkTJrYnN0/AAAAAAAAAAI/AAAAAAAAACQ/7Z5o-7qOUj0/s64/photo.jpg",
      "userId": "15347984803100655282"
     },
     "user_tz": -540
    },
    "id": "J8H1xjdpuPn4",
    "outputId": "e100c49c-aaf8-475e-ec54-8d9ecff5ffcd"
   },
   "outputs": [],
   "source": [
    "# 150 * 0.25"
   ]
  },
  {
   "cell_type": "markdown",
   "metadata": {
    "colab_type": "text",
    "id": "0cO81oWJuPn9"
   },
   "source": [
    "# 【問題5 値を確認してみる】 "
   ]
  },
  {
   "cell_type": "code",
   "execution_count": 16,
   "metadata": {
    "colab": {
     "base_uri": "https://localhost:8080/",
     "height": 90
    },
    "colab_type": "code",
    "executionInfo": {
     "elapsed": 569,
     "status": "ok",
     "timestamp": 1541840689649,
     "user": {
      "displayName": "Yasuharu Hirado",
      "photoUrl": "https://lh6.googleusercontent.com/-wJGkTJrYnN0/AAAAAAAAAAI/AAAAAAAAACQ/7Z5o-7qOUj0/s64/photo.jpg",
      "userId": "15347984803100655282"
     },
     "user_tz": -540
    },
    "id": "eUdC3WUhuPoB",
    "outputId": "c45ba37b-160f-4cfe-d644-eece802e84cd"
   },
   "outputs": [],
   "source": [
    "# print(y_train)"
   ]
  },
  {
   "cell_type": "markdown",
   "metadata": {
    "colab_type": "text",
    "id": "I8sP2cqxuPoC"
   },
   "source": [
    "# 【問題6 ロジスティック回帰を用いてモデル作り】 "
   ]
  },
  {
   "cell_type": "code",
   "execution_count": 17,
   "metadata": {
    "scrolled": true
   },
   "outputs": [],
   "source": [
    "import warnings\n",
    "warnings.filterwarnings(\"ignore\")\n",
    "\n",
    "# ロジスティック回帰の選択\n",
    "\n",
    "# 学習\n"
   ]
  },
  {
   "cell_type": "markdown",
   "metadata": {
    "colab_type": "text",
    "id": "afC7QxP3uPoE"
   },
   "source": [
    "# 【問題7 正解率判定】"
   ]
  },
  {
   "cell_type": "code",
   "execution_count": 18,
   "metadata": {},
   "outputs": [],
   "source": [
    "# pred ="
   ]
  },
  {
   "cell_type": "markdown",
   "metadata": {
    "colab_type": "text",
    "id": "VsYeiaTmuPoI"
   },
   "source": [
    "### y_testとpredict_yの違い"
   ]
  },
  {
   "cell_type": "code",
   "execution_count": 19,
   "metadata": {
    "colab": {
     "base_uri": "https://localhost:8080/",
     "height": 54
    },
    "colab_type": "code",
    "executionInfo": {
     "elapsed": 680,
     "status": "ok",
     "timestamp": 1541840692791,
     "user": {
      "displayName": "Yasuharu Hirado",
      "photoUrl": "https://lh6.googleusercontent.com/-wJGkTJrYnN0/AAAAAAAAAAI/AAAAAAAAACQ/7Z5o-7qOUj0/s64/photo.jpg",
      "userId": "15347984803100655282"
     },
     "user_tz": -540
    },
    "id": "eW3scYCguPoJ",
    "outputId": "0ec5f0bd-60b0-4a4a-be25-bae1caf17eb2"
   },
   "outputs": [],
   "source": [
    "# y_test # 本当の値"
   ]
  },
  {
   "cell_type": "markdown",
   "metadata": {
    "colab_type": "text",
    "id": "4R8a3oB0zmEl"
   },
   "source": [
    "### 正解率を見てみましょう"
   ]
  },
  {
   "cell_type": "code",
   "execution_count": 20,
   "metadata": {},
   "outputs": [],
   "source": [
    "#accuracy_scoreで正解率が見えます\n",
    "from sklearn.metrics import accuracy_score\n",
    "# 第一引数に本当の値、第二引数に予測値を渡す\n"
   ]
  },
  {
   "cell_type": "code",
   "execution_count": null,
   "metadata": {},
   "outputs": [],
   "source": []
  },
  {
   "cell_type": "code",
   "execution_count": 36,
   "metadata": {},
   "outputs": [],
   "source": [
    "from sklearn.metrics import confusion_matrix\n",
    "cm = confusion_matrix(y_test, pred)"
   ]
  },
  {
   "cell_type": "code",
   "execution_count": 37,
   "metadata": {},
   "outputs": [
    {
     "data": {
      "text/plain": [
       "array([[13,  0,  0],\n",
       "       [ 0, 10,  6],\n",
       "       [ 0,  0,  9]])"
      ]
     },
     "execution_count": 37,
     "metadata": {},
     "output_type": "execute_result"
    }
   ],
   "source": [
    "cm"
   ]
  },
  {
   "cell_type": "code",
   "execution_count": 39,
   "metadata": {},
   "outputs": [
    {
     "data": {
      "image/png": "[encoded data removed]",
      "text/plain": [
       "<Figure size 360x360 with 1 Axes>"
      ]
     },
     "metadata": {
      "needs_background": "light"
     },
     "output_type": "display_data"
    }
   ],
   "source": [
    "import matplotlib.pyplot as plt\n",
    "%matplotlib inline\n",
    "\n",
    "fig, ax = plt.subplots(figsize=(5, 5))\n",
    "ax.matshow(cm, cmap=plt.cm.Blues, alpha=0.3)\n",
    "for i in range(cm.shape[0]):\n",
    "    for j in range(cm.shape[1]):\n",
    "        ax.text(x=j, y=i, s=cm[i, j], va='center', ha='center')\n",
    "plt.title('predicted label')\n",
    "plt.ylabel('true label')\n",
    "plt.tight_layout() # ラベルが重ならないように自動調整\n",
    "plt.show()"
   ]
  },
  {
   "cell_type": "code",
   "execution_count": 43,
   "metadata": {},
   "outputs": [
    {
     "name": "stdout",
     "output_type": "stream",
     "text": [
      "cross validation score:\n",
      "[0.94117647 0.94117647 1.        ]\n"
     ]
    }
   ],
   "source": [
    "from sklearn.model_selection import KFold,StratifiedKFold\n",
    "from sklearn.datasets import load_iris\n",
    "from sklearn.linear_model import LogisticRegression\n",
    "from sklearn.model_selection import cross_val_score\n",
    "\n",
    "iris = load_iris()\n",
    "model = LogisticRegression()\n",
    "#kfold = KFold(n_splits=3)\n",
    "kfold = StratifiedKFold(n_splits=3, shuffle=True, random_state=0)\n",
    "print(\"cross validation score:\\n{}\".format(cross_val_score(model ,iris.data,iris.target,cv=kfold)))"
   ]
  },
  {
   "cell_type": "code",
   "execution_count": null,
   "metadata": {},
   "outputs": [],
   "source": []
  }
 ],
 "metadata": {
  "colab": {
   "collapsed_sections": [],
   "name": "iris.ipynb",
   "provenance": [],
   "version": "0.3.2"
  },
  "kernelspec": {
   "display_name": "Python 3",
   "language": "python",
   "name": "python3"
  },
  "language_info": {
   "codemirror_mode": {
    "name": "ipython",
    "version": 3
   },
   "file_extension": ".py",
   "mimetype": "text/x-python",
   "name": "python",
   "nbconvert_exporter": "python",
   "pygments_lexer": "ipython3",
   "version": "3.7.3"
  }
 },
 "nbformat": 4,
 "nbformat_minor": 2
}
